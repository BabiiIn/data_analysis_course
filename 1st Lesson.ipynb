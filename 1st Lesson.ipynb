{
 "cells": [
  {
   "cell_type": "code",
   "execution_count": 1,
   "id": "4b40b4af",
   "metadata": {},
   "outputs": [
    {
     "name": "stdout",
     "output_type": "stream",
     "text": [
      "Hello, World!\n"
     ]
    }
   ],
   "source": [
    "print(\"Hello, World!\")"
   ]
  },
  {
   "cell_type": "code",
   "execution_count": 2,
   "id": "7ccd21b0",
   "metadata": {},
   "outputs": [
    {
     "name": "stdout",
     "output_type": "stream",
     "text": [
      "[[0, 0, 0, 0, 0], [0, 0, 0, 0, 0], [0, 0, 0, 0, 0], [0, 0, 0, 0, 0], [0, 0, 0, 0, 0]]\n"
     ]
    }
   ],
   "source": [
    "# так я создал двумерный массив\n",
    "a = [[0] * 5 for i in range(5)]\n",
    "print(a)"
   ]
  },
  {
   "cell_type": "code",
   "execution_count": 3,
   "id": "a91fabfc",
   "metadata": {},
   "outputs": [
    {
     "name": "stdout",
     "output_type": "stream",
     "text": [
      "primer\n",
      "[1, 2, 3, 4]\n",
      "[1, 2, 3]\n",
      "p\n"
     ]
    }
   ],
   "source": [
    "# а здесь я создал массив смешанной вложенности\n",
    "a = [\"primer\", [1, 2, 3, 4], [1, 2, 3]]\n",
    "for i in range(len(a)): # количество элементов в массиве len(a)\n",
    "    print(a[i])\n",
    "print(a[0][0])"
   ]
  },
  {
   "cell_type": "code",
   "execution_count": 4,
   "id": "eee20da1",
   "metadata": {},
   "outputs": [
    {
     "name": "stdout",
     "output_type": "stream",
     "text": [
      "4\n",
      "14\n",
      "20\n",
      "26\n",
      "57\n",
      "[14, 20, 26, 57]\n"
     ]
    }
   ],
   "source": [
    "# ввод одномерного массива с клавиатуры\n",
    "n = int(input())\n",
    "a = []\n",
    "for i in range(n):\n",
    "    a.append(int(input()))\n",
    "print(a)"
   ]
  },
  {
   "cell_type": "code",
   "execution_count": 5,
   "id": "4c8c5396",
   "metadata": {},
   "outputs": [
    {
     "name": "stdout",
     "output_type": "stream",
     "text": [
      "2\n",
      "57\n",
      "57\n",
      "[57, 57]\n"
     ]
    }
   ],
   "source": [
    "# ввод одномерного массива с клавиатуры (вариация)\n",
    "n = int(input()) # длина массива\n",
    "a = [0] * n # массив\n",
    "for i in range(n): \n",
    "    a[i] = int(input())\n",
    "print(a)"
   ]
  },
  {
   "cell_type": "code",
   "execution_count": 6,
   "id": "5d1a34b0",
   "metadata": {},
   "outputs": [
    {
     "name": "stdout",
     "output_type": "stream",
     "text": [
      "2\n",
      "3\n",
      "[[0, 0, 0], [0, 0, 0]]\n",
      "1\n",
      "2\n",
      "3\n",
      "4\n",
      "5\n",
      "6\n",
      "[[1, 2, 3], [4, 5, 6]]\n"
     ]
    }
   ],
   "source": [
    "# ввод двумерного массива с клавиатуры\n",
    "n = int(input())\n",
    "m = int(input())\n",
    "a = [[0] * m for i in range(n)]\n",
    "print(a) # вывод пустого массива\n",
    "for i in range(n):\n",
    "    for j in range(m):\n",
    "        a[i][j] = int(input())\n",
    "print(a)"
   ]
  },
  {
   "cell_type": "code",
   "execution_count": 7,
   "id": "975841ba",
   "metadata": {},
   "outputs": [
    {
     "name": "stdout",
     "output_type": "stream",
     "text": [
      "1 2 3\n",
      "4 5 6\n"
     ]
    }
   ],
   "source": [
    "# вывод массива без запятых\n",
    "for i in range(n):\n",
    "    print(*a[i])"
   ]
  },
  {
   "cell_type": "code",
   "execution_count": 9,
   "id": "2657b1eb",
   "metadata": {},
   "outputs": [
    {
     "name": "stdout",
     "output_type": "stream",
     "text": [
      "6\n",
      "7\n",
      " 0  1  2  3  4  5  6 \n",
      " 7  8  9 10 11 12 13 \n",
      "14 15 16 17 18 19 20 \n",
      "21 22 23 24 25 26 27 \n",
      "28 29 30 31 32 33 34 \n",
      "35 36 37 38 39 40 41 \n"
     ]
    }
   ],
   "source": [
    "# задача https://informatics.msk.ru/mod/statements/view.php?id=4898&chapterid=111197#1\n",
    "n = int(input())\n",
    "m = int(input())\n",
    "\n",
    "# в этих трех строчках содержится основное решение задачи, то есть заполнение массива\n",
    "a = [[i for i in range(m)]]\n",
    "for i in range(1, n):\n",
    "    a.append([j + a[i - 1][-1] for j in range(1, m + 1)])\n",
    "\n",
    "# в этом куске всего лишь разбираюсь с форматом вывода\n",
    "for i in range(n):\n",
    "    for j in range(m):\n",
    "        elem = str(a[i][j])\n",
    "        if len(elem) == 1:\n",
    "            elem = \" \" + elem\n",
    "        print(elem, end = \" \")\n",
    "    print()\n",
    "    \n",
    "# в дальнейшем я (хоть и редко), но буду иногда придираться к оформлению\n",
    "# имей это, пожалуйста, в виду при сдаче работ\n",
    "    "
   ]
  }
 ],
 "metadata": {
  "kernelspec": {
   "display_name": "Python 3 (ipykernel)",
   "language": "python",
   "name": "python3"
  },
  "language_info": {
   "codemirror_mode": {
    "name": "ipython",
    "version": 3
   },
   "file_extension": ".py",
   "mimetype": "text/x-python",
   "name": "python",
   "nbconvert_exporter": "python",
   "pygments_lexer": "ipython3",
   "version": "3.9.13"
  }
 },
 "nbformat": 4,
 "nbformat_minor": 5
}
